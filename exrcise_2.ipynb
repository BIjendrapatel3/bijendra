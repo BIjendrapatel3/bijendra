{
  "nbformat": 4,
  "nbformat_minor": 0,
  "metadata": {
    "colab": {
      "name": "exrcise 2.ipynb",
      "provenance": [],
      "collapsed_sections": [],
      "authorship_tag": "ABX9TyN5MV8whCu0Kt8PgLutnfOd",
      "include_colab_link": true
    },
    "kernelspec": {
      "name": "python3",
      "display_name": "Python 3"
    },
    "language_info": {
      "name": "python"
    }
  },
  "cells": [
    {
      "cell_type": "markdown",
      "metadata": {
        "id": "view-in-github",
        "colab_type": "text"
      },
      "source": [
        "<a href=\"https://colab.research.google.com/github/BIjendrapatel3/bijendra/blob/main/exrcise_2.ipynb\" target=\"_parent\"><img src=\"https://colab.research.google.com/assets/colab-badge.svg\" alt=\"Open In Colab\"/></a>"
      ]
    },
    {
      "cell_type": "code",
      "source": [
        "color = input(\"Enter Your Favorite Color Name\")\n",
        "print(input)\n",
        "\n",
        "neighbourcolor = input(\"Enter Neighbour Favorite Color Name\")\n",
        "\n",
        "concat_color = (\"Color,neighbourcolor\")\n",
        "print(concat_color)\n",
        "print(concat_color)\n",
        "\n",
        "color,neighbourcolor = neighbourcolor,color\n",
        "print(\"Color, Color\")\n",
        "print(\"Neighbour_Color \", neighbourcolor)\n"
      ],
      "metadata": {
        "colab": {
          "base_uri": "https://localhost:8080/"
        },
        "id": "oiqRpKhen61K",
        "outputId": "de89e5f7-fe56-4748-e1a2-455032428955"
      },
      "execution_count": 7,
      "outputs": [
        {
          "output_type": "stream",
          "name": "stdout",
          "text": [
            "Enter Your Favorite Color Namered\n",
            "<bound method Kernel.raw_input of <google.colab._kernel.Kernel object at 0x7f405d5ce990>>\n",
            "Enter Neighbour Favorite Color Namegreen\n",
            "Color,neighbourcolor\n",
            "Color,neighbourcolor\n",
            "Color, Color\n",
            "Neighbour_Color  red\n"
          ]
        }
      ]
    },
    {
      "cell_type": "markdown",
      "source": [
        "# New Section"
      ],
      "metadata": {
        "id": "UtlqTy3wo4XE"
      }
    }
  ]
}