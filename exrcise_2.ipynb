{
  "nbformat": 4,
  "nbformat_minor": 0,
  "metadata": {
    "colab": {
      "name": "exrcise 2.ipynb",
      "provenance": [],
      "collapsed_sections": [],
      "authorship_tag": "ABX9TyOapaen1p+l9Cw1Bxqkyxcc",
      "include_colab_link": true
    },
    "kernelspec": {
      "name": "python3",
      "display_name": "Python 3"
    },
    "language_info": {
      "name": "python"
    }
  },
  "cells": [
    {
      "cell_type": "markdown",
      "metadata": {
        "id": "view-in-github",
        "colab_type": "text"
      },
      "source": [
        "<a href=\"https://colab.research.google.com/github/BIjendrapatel3/bijendra/blob/main/exrcise_2.ipynb\" target=\"_parent\"><img src=\"https://colab.research.google.com/assets/colab-badge.svg\" alt=\"Open In Colab\"/></a>"
      ]
    },
    {
      "cell_type": "code",
      "source": [
        "hours = int(input(\"Enter hours\"))\n",
        "rate = int(input(\"Enter hurly rate\"))\n",
        "\n",
        "grosspay = hours * rate\n",
        "print(\"Weekly Gross Pay is \",grosspay )\n",
        "\n"
      ],
      "metadata": {
        "colab": {
          "base_uri": "https://localhost:8080/"
        },
        "id": "pcTGODmXG68Y",
        "outputId": "e8b53019-b145-4f09-b5aa-307b34dd0d46"
      },
      "execution_count": 2,
      "outputs": [
        {
          "output_type": "stream",
          "name": "stdout",
          "text": [
            "Enter hours15\n",
            "Enter hurly rate15\n",
            "Weekly Gross Pay is  225\n"
          ]
        }
      ]
    },
    {
      "cell_type": "markdown",
      "source": [
        ""
      ],
      "metadata": {
        "id": "SauUM5GaHFAp"
      }
    }
  ]
}